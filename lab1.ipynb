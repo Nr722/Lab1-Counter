{
 "cells": [
  {
   "cell_type": "markdown",
   "metadata": {},
   "source": [
    "Lab task 1 challenge 1\n",
    "Modify the testbench so that you stop counting for 3 cycles once the counter reaches 0x9, and then resume counting. You may also need to change the stimulus for rst."
   ]
  },
  {
   "cell_type": "markdown",
   "metadata": {},
   "source": [
    "#include \"Vcounter.h\"\n",
    "#include \"verilated.h\"\n",
    "#include \"verilated_vcd_c.h\"\n",
    "#include <iostream>\n",
    "int main (int argc, char **argv, char **ev){\n",
    "    int i;\n",
    "    int clk;\n",
    "\n",
    "    Verilated::commandArgs(argc, argv);\n",
    "    //init top verilog instance\n",
    "    Vcounter* top = new Vcounter;\n",
    "    //init trace dump\n",
    "    Verilated::traceEverOn(true);\n",
    "    VerilatedVcdC* tfp = new VerilatedVcdC;\n",
    "    top->trace (tfp,99);\n",
    "    tfp->open (\"counter.vcd\");\n",
    "\n",
    "    //initialize simulation inputs\n",
    "    top->clk = 1;\n",
    "    top->rst = 1;\n",
    "    top->en = 0;\n",
    "    int tmp = 0;\n",
    "    //run simulation for many clock cycles\n",
    "    for(i=0; i<300;i++){\n",
    "        \n",
    "        //dump variables into VCD file and toggle clock\n",
    "        for(clk=0; clk<2; clk++){\n",
    "            tfp-> dump (2*i+clk);\n",
    "            top->clk = !top->clk;\n",
    "            top->eval ();\n",
    "            }\n",
    "        top->rst=0;\n",
    "        //top->rst = (i<2) | (i == 15);\n",
    "        top->en = (i>4);\n",
    "        if((top->count >=9) && (tmp<=2)){\n",
    "            tmp= tmp + 1;\n",
    "            top->en =0; \n",
    "            std::cout << tmp << std::endl;\n",
    "        }\n",
    "\n",
    "        else{\n",
    "            top->en =1;\n",
    "        }\n",
    "        if (Verilated::gotFinish()) exit(0);\n",
    "    }\n",
    "    tfp->close();\n",
    "    exit(0);\n",
    "}\n",
    "\n",
    "\n"
   ]
  }
 ],
 "metadata": {
  "language_info": {
   "name": "python"
  }
 },
 "nbformat": 4,
 "nbformat_minor": 2
}
